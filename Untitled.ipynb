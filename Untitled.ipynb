{
 "cells": [
  {
   "cell_type": "code",
   "execution_count": 2,
   "metadata": {},
   "outputs": [
    {
     "name": "stdout",
     "output_type": "stream",
     "text": [
      "ABC, PEANUT BUTTER, UPC: 837991219186\n"
     ]
    }
   ],
   "source": [
    "import requests\n",
    "\n",
    "url = \"https://api.nal.usda.gov/ndb/search/?format=json\"\n",
    "\n",
    "params = dict(\n",
    "    q=\"butter\",\n",
    "    sort=\"n\",\n",
    "    max=\"3\",\n",
    "    offset=\"0\",\n",
    "    api_key=\"ozs0jISJX6KiGzDWdXI7h9hCFBwYvk3m11HKkKbe\"\n",
    ")\n",
    "\n",
    "resp = requests.get(url=url, params=params)\n",
    "food_name = resp.json()['list']['item'][1]['name']\n",
    "print(food_name)"
   ]
  },
  {
   "cell_type": "code",
   "execution_count": 65,
   "metadata": {},
   "outputs": [
    {
     "data": {
      "text/plain": [
       "{'list': {'ds': 'any',\n",
       "  'end': 3,\n",
       "  'group': '',\n",
       "  'item': [{'ds': 'BL',\n",
       "    'group': 'Branded Food Products Database',\n",
       "    'name': 'ABBOTT, EAS, MYOPLEX 30 BUILD MUSCLE BAR, CHOCOLATE PEANUT BUTTER, UPC: 791083622813',\n",
       "    'ndbno': '45258948',\n",
       "    'offset': 0},\n",
       "   {'ds': 'BL',\n",
       "    'group': 'Branded Food Products Database',\n",
       "    'name': 'ABC, PEANUT BUTTER, UPC: 837991219186',\n",
       "    'ndbno': '45166992',\n",
       "    'offset': 1},\n",
       "   {'ds': 'BL',\n",
       "    'group': 'Branded Food Products Database',\n",
       "    'name': 'ACAI BERRY NUT BUTTER, UPC: 870001006017',\n",
       "    'ndbno': '45136115',\n",
       "    'offset': 2}],\n",
       "  'q': 'butter',\n",
       "  'sort': 'n',\n",
       "  'sr': '28',\n",
       "  'start': 0,\n",
       "  'total': 4280}}"
      ]
     },
     "execution_count": 65,
     "metadata": {},
     "output_type": "execute_result"
    }
   ],
   "source": [
    "resp = requests.get(url=url, params=params)\n",
    "resp.json()"
   ]
  },
  {
   "cell_type": "code",
   "execution_count": 66,
   "metadata": {},
   "outputs": [
    {
     "name": "stdout",
     "output_type": "stream",
     "text": [
      "[{'offset': 0, 'group': 'Branded Food Products Database', 'name': 'ABBOTT, EAS, MYOPLEX 30 BUILD MUSCLE BAR, CHOCOLATE PEANUT BUTTER, UPC: 791083622813', 'ndbno': '45258948', 'ds': 'BL'}, {'offset': 1, 'group': 'Branded Food Products Database', 'name': 'ABC, PEANUT BUTTER, UPC: 837991219186', 'ndbno': '45166992', 'ds': 'BL'}, {'offset': 2, 'group': 'Branded Food Products Database', 'name': 'ACAI BERRY NUT BUTTER, UPC: 870001006017', 'ndbno': '45136115', 'ds': 'BL'}]\n"
     ]
    },
    {
     "data": {
      "text/plain": [
       "list"
      ]
     },
     "execution_count": 66,
     "metadata": {},
     "output_type": "execute_result"
    }
   ],
   "source": [
    "food_list = resp.json()['list']['item']\n",
    "print(food_list)\n",
    "type(food_list)"
   ]
  },
  {
   "cell_type": "code",
   "execution_count": 67,
   "metadata": {},
   "outputs": [
    {
     "name": "stdout",
     "output_type": "stream",
     "text": [
      "['ABBOTT, EAS, MYOPLEX 30 BUILD MUSCLE BAR, CHOCOLATE PEANUT BUTTER, UPC: 791083622813', 'ABC, PEANUT BUTTER, UPC: 837991219186', 'ACAI BERRY NUT BUTTER, UPC: 870001006017']\n"
     ]
    }
   ],
   "source": [
    "food_list = resp.json()['list']['item']\n",
    "food_list_clean = []\n",
    "\n",
    "for i, name in enumerate(d['name'] for d in food_list):\n",
    "    food_list_clean.append(name)\n",
    "    \n",
    "print(food_list_clean)"
   ]
  },
  {
   "cell_type": "code",
   "execution_count": 134,
   "metadata": {},
   "outputs": [
    {
     "name": "stdout",
     "output_type": "stream",
     "text": [
      "[{'ABBOTT, EAS, MYOPLEX 30 BUILD MUSCLE BAR, CHOCOLATE PEANUT BUTTER, UPC: 791083622813': '45258948'}, {'ABC, PEANUT BUTTER, UPC: 837991219186': '45166992'}, {'ACAI BERRY NUT BUTTER, UPC: 870001006017': '45136115'}]\n"
     ]
    }
   ],
   "source": [
    "search_url = \"https://api.nal.usda.gov/ndb/search/?format=json\"\n",
    "\n",
    "params = dict(\n",
    "    q=\"Butter\",\n",
    "    sort=\"n\",\n",
    "    max=\"3\",\n",
    "    offset=\"0\",\n",
    "    api_key=\"ozs0jISJX6KiGzDWdXI7h9hCFBwYvk3m11HKkKbe\"\n",
    ")\n",
    "\n",
    "resp = requests.get(url=search_url, params=params)\n",
    "\n",
    "food_list = resp.json()['list']['item']\n",
    "\n",
    "food_list_clean = []\n",
    "\n",
    "for i in food_list:\n",
    "    food_list_clean.append({i['name']:i['ndbno']})\n",
    "    \n",
    "print(food_list_clean)"
   ]
  },
  {
   "cell_type": "code",
   "execution_count": 4,
   "metadata": {},
   "outputs": [
    {
     "name": "stdout",
     "output_type": "stream",
     "text": [
      "Cheese, cheddar\n",
      "1.0 cup, diced\n",
      "533\n",
      "30.19\n",
      "43.97\n",
      "4.08\n"
     ]
    }
   ],
   "source": [
    "url=\"https://api.nal.usda.gov/ndb/nutrients/?format=json\"\n",
    "params = dict(\n",
    "    api_key=\"ozs0jISJX6KiGzDWdXI7h9hCFBwYvk3m11HKkKbe\",\n",
    "    nutrients=[\"205\", \"204\", \"208\", \"203\"],\n",
    "    ndbno=\"01009\"\n",
    ")\n",
    "\n",
    "resp = requests.get(url=url, params=params)\n",
    "\n",
    "food_name = resp.json()['report']['foods'][0]['name']\n",
    "food_measure = resp.json()['report']['foods'][0]['measure']\n",
    "food_cals = resp.json()['report']['foods'][0]['nutrients'][0]['value']\n",
    "food_protein = resp.json()['report']['foods'][0]['nutrients'][1]['value']\n",
    "food_fat = resp.json()['report']['foods'][0]['nutrients'][2]['value']\n",
    "food_carbs = resp.json()['report']['foods'][0]['nutrients'][3]['value']\n",
    "\n",
    "print(food_name)\n",
    "print(food_measure)\n",
    "print(food_cals)\n",
    "print(food_protein)\n",
    "print(food_fat)\n",
    "print(food_carbs)"
   ]
  },
  {
   "cell_type": "code",
   "execution_count": 138,
   "metadata": {},
   "outputs": [
    {
     "name": "stdout",
     "output_type": "stream",
     "text": [
      "532.8100000000001\n"
     ]
    }
   ],
   "source": [
    "cal_check = 30.19 * 4 + 43.97 * 9 + 4.08 * 4\n",
    "print(cal_check)"
   ]
  },
  {
   "cell_type": "code",
   "execution_count": null,
   "metadata": {
    "collapsed": true
   },
   "outputs": [],
   "source": []
  }
 ],
 "metadata": {
  "kernelspec": {
   "display_name": "Python 3",
   "language": "python",
   "name": "python3"
  },
  "language_info": {
   "codemirror_mode": {
    "name": "ipython",
    "version": 3
   },
   "file_extension": ".py",
   "mimetype": "text/x-python",
   "name": "python",
   "nbconvert_exporter": "python",
   "pygments_lexer": "ipython3",
   "version": "3.6.3"
  }
 },
 "nbformat": 4,
 "nbformat_minor": 2
}
